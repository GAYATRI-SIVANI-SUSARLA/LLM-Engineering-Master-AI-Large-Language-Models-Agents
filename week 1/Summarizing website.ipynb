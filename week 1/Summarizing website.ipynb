{
 "cells": [
  {
   "cell_type": "code",
   "execution_count": 1,
   "id": "f82305f0-2770-4c5b-91a5-1d3e5fb0f789",
   "metadata": {},
   "outputs": [],
   "source": [
    "# imports required packages\n",
    "\n",
    "import os\n",
    "import requests\n",
    "from dotenv import load_dotenv\n",
    "from bs4 import BeautifulSoup\n",
    "from IPython.display import Markdown, display\n",
    "from openai import OpenAI\n"
   ]
  },
  {
   "cell_type": "code",
   "execution_count": 2,
   "id": "e16f5ac6-2957-4703-b6fd-25c20c098d33",
   "metadata": {},
   "outputs": [
    {
     "name": "stdout",
     "output_type": "stream",
     "text": [
      "API key found and looks good so far!\n"
     ]
    }
   ],
   "source": [
    "# Load environment variables in a file called .env\n",
    "\n",
    "load_dotenv(override=True)\n",
    "api_key = os.getenv('OPENAI_API_KEY')\n",
    "\n",
    "# Check the key\n",
    "\n",
    "if not api_key:\n",
    "    print(\"No API key was found - please head over to the troubleshooting notebook in this folder to identify & fix!\")\n",
    "elif not api_key.startswith(\"sk-proj-\"):\n",
    "    print(\"An API key was found, but it doesn't start sk-proj-; please check you're using the right key - see troubleshooting notebook\")\n",
    "elif api_key.strip() != api_key:\n",
    "    print(\"An API key was found, but it looks like it might have space or tab characters at the start or end - please remove them - see troubleshooting notebook\")\n",
    "else:\n",
    "    print(\"API key found and looks good so far!\")\n"
   ]
  },
  {
   "cell_type": "code",
   "execution_count": 3,
   "id": "ca25be91-7955-43b7-9636-0222bb44408b",
   "metadata": {},
   "outputs": [],
   "source": [
    "openai = OpenAI()\n",
    "\n",
    "# If this doesn't work, try Kernel menu >> Restart Kernel and Clear Outputs Of All Cells, then run the cells from the top of this notebook down.\n",
    "# If it STILL doesn't work (horrors!) then please see the Troubleshooting notebook in this folder for full instructions"
   ]
  },
  {
   "cell_type": "code",
   "execution_count": 4,
   "id": "66b014f3-019a-4b72-a0e1-5c28caba203f",
   "metadata": {},
   "outputs": [],
   "source": [
    "# Some websites need you to use proper headers when fetching them:\n",
    "headers = {\n",
    " \"User-Agent\": \"Mozilla/5.0 (Windows NT 10.0; Win64; x64) AppleWebKit/537.36 (KHTML, like Gecko) Chrome/117.0.0.0 Safari/537.36\"\n",
    "}\n",
    "class Website:\n",
    "\n",
    "    def __init__(self, url):\n",
    "        \"\"\"\n",
    "        Create this Website object from the given url using the BeautifulSoup library\n",
    "        \"\"\"\n",
    "        self.url = url\n",
    "        response = requests.get(url, headers=headers)\n",
    "        soup = BeautifulSoup(response.content, 'html.parser')\n",
    "        self.title = soup.title.string if soup.title else \"No title found\"\n",
    "        for irrelevant in soup.body([\"script\", \"style\", \"img\", \"input\"]):\n",
    "            irrelevant.decompose()\n",
    "        self.text = soup.body.get_text(separator=\"\\n\", strip=True)"
   ]
  },
  {
   "cell_type": "code",
   "execution_count": 6,
   "id": "58543a16-73f2-40dc-8000-7aa461c5eab7",
   "metadata": {},
   "outputs": [
    {
     "name": "stdout",
     "output_type": "stream",
     "text": [
      "Gayatri Sivani Susarla Portfolio Website\n",
      "Home\n",
      "About\n",
      "Certifications\n",
      "Projects\n",
      "Contact\n",
      "Data Scientist\n",
      "Hey!, I am\n",
      "Gayatri Sivani Susarla\n",
      ".\n",
      "About Me\n",
      "I am aspiring Data Scientist pursuing Master's degree in Data Science major at Stony Brook University, New York. I developed passion for Large Language Models and Big Data Analytics in my MS journey, and move forward to collaborate with professionals in these fields. I want to focus on solving real-world challenges, driving impactful results and grow professionally. I am eager to contribute to the evolution of the Data Science field and discover unrevealed data. Lets connect to explore data in all possible ways and invent new scientific skills to study the\n",
      "\"word\".\n",
      "Skills\n",
      "Experience\n",
      "Education\n",
      "Programming Skills\n",
      "Python | R | Java | SQL | OCAML | SAPBW\n",
      "AI/ML Libraries\n",
      "PyTorch | TensorFlow | SciKit-Learn\n",
      "Cloud and Data visualization\n",
      "Snowflake | CloudLab | Azure | PowerBI | SAP Analytics Cloud | Matplotlib | Seaborn | Plotly\n",
      "Systems Engineer, Infosys\n",
      "Jul,2022 - Dec,2023\n",
      "As a Systems Engineer at Infosys I specialized in SAPBI and worked for the client company P&G, here's an overview of my work experience:\n",
      "1. Data Pipeline Optimization & Monitoring:\n",
      "I monitored and optimized process chains and pipelines, ensuring efficient and accurate data flow into the SAP BW warehouse, skills I now apply to streamline data pipelines in data science workflows.\n",
      "2. Extraction, Transform and Load(ETL):\n",
      "Expirenced in global ETL processes to ensure efficient data load operations, server health, and error resolution across multiple time zones using SAPBW Workbench, enhancing data pipeline reliability.\n",
      "3.Advanced Tools & Learning:\n",
      "With hands-on expertise I have done certain certifications in SAP Analytics Cloud,SAP ABAP, Snowflake, Microsoft Azure and SAP BW, complemented by training in Java and DBMS\n",
      "Master's in Data Science\n",
      "Jan,2024 - Present\n",
      "Stony Brook University, New York\n",
      "Bachelor in Technology\n",
      "Jun,2018 - May,2022\n",
      "Electronics and Instrumentation Engineering\n",
      "Adikavi Nannaya University, Andhra Pradesh, India\n",
      "Certifications\n",
      "Mastering Generative AI-A Simple Guide for Beginners\n",
      "In this certification, I got to learn basic Generative AI, Large Language Models, Transformers. I implemented downstream tasks, fine-tuned LLM'S in Python\n",
      "View credential\n",
      "Snowflake\n",
      "Expertise in building scalable data pipelines and optimizing data workflows in Snowflake.\n",
      "Proficiency in designing, managing, and optimizing Snowflake data warehouses for efficient analytics.\n",
      "Skilled in implementing data lakes on Snowflake, ensuring seamless data ingestion and management.\n",
      "View credentials\n",
      "Functional Programming Language: OCAML\n",
      "I learned fundamental principles of functional programming, including immutability, referential transparency, the power of higher-order functions, syntax and semantics of OCaml Language\n",
      "Type Inference and Polymorphism\n",
      "Pattern Matching\n",
      "Recursive Thinking\n",
      "View credential\n",
      "P&G SAP ABAP Developer\n",
      "Issuer: Procter & Gamble\n",
      "Issued: Aug 2023\n",
      "Credential ID: ET5045\n",
      "Summary: Certified in SAP ABAP development, showcasing expertise in building and optimizing enterprise applications. Earned while working at Infosys.\n",
      "Projects\n",
      "NCAA-March-Madness-Basketball-Tournament-Outcome-Prediction-Model\n",
      "NCAA basketball game is very famous, predicting the outcome of tournament is interesting game, but applying machine learning skills to predict outcome is much more interesting. This project is forecasting the outcomes of both the men's and women's 2024 collegiate basketball tournaments, a portfolio of brackets based on historical data. I used Logistic Regression, Random Forest, Gradient Boosting, and K-NN to predict models and attained some accuracies regarding the dataset.\n",
      "Exploratory Data Analytics-Airbnb Listings\n",
      "This project performs Exploratory Data Analysis (EDA) on New York Airbnb Listing 2024 data to uncover trends and patterns in rental listings. I used Python Jupyter Notebook to do EDA and used libraries like Pandas, Numpy, Matplotlib, and Seaborn for cleaning, visualization, and analysis.This project offers valuable insights into the New York Airbnb market, helping both guests and hosts make informed decisions.I identified key trends and developed actionable recommendations\n",
      "Quantum Search Algorithm on Weighted Databases\n",
      "This project implements an Adaptive-Grover-Algorithm using Qiskit, analyzing different dataset distributions and producing visualization results. Analysis and implementation reveal the adaptive quantum search nature compared to linear search. Addressed key challenges in designing an adaptive Grover search compared to original algorithm, explained results on real-world weighted data. The project provides a few enhancements to the original Grover’s search implementation strategies and scalability of the algorithm\n",
      "See more\n",
      "Contact me\n",
      "gayatrisivani3010@gmail.com\n",
      "+1-9342464724\n",
      "View My Resume\n",
      "Submit\n",
      "Copyright Gayatri Sivani Susarla\n"
     ]
    }
   ],
   "source": [
    "# Let's try one out. Change the website and add print statements to follow along.\n",
    "\n",
    "gs = Website(\"https://gayatri-sivani-susarla.github.io/GSS.portfolio/\")\n",
    "print(gs.title)\n",
    "print(gs.text)"
   ]
  },
  {
   "cell_type": "code",
   "execution_count": 9,
   "id": "4a23b546-f29c-48a1-9eea-6721ddeea604",
   "metadata": {},
   "outputs": [],
   "source": [
    "# Define our system prompt - you can experiment with this later, changing the last sentence to 'Respond in markdown in Spanish.\"\n",
    "\n",
    "system_prompt = \"You are an assistant that analyzes the contents of a website \\\n",
    "and provides a short summary, ignoring text that might be navigation related. \\\n",
    "Respond in markdown.\""
   ]
  },
  {
   "cell_type": "code",
   "execution_count": 16,
   "id": "ea632468-cc40-483a-bc18-eff7fcbd1c56",
   "metadata": {},
   "outputs": [],
   "source": [
    "# write function user prompt that asks for summaries of websites:\n",
    "def user_prompt_for(website):\n",
    "    user_prompt = f\"You are looking at a website titled {website.title}\"\n",
    "    user_prompt += \"\\n The contents of this website is as follows; \\\n",
    "please provide a short summary of this website in markdown. \\\n",
    "If it includes news or announcements, then summarize these too.\\n\\n\"\n",
    "    user_prompt += website.text\n",
    "    return user_prompt"
   ]
  },
  {
   "cell_type": "code",
   "execution_count": 15,
   "id": "17d377c6-8e8c-4b1a-9dd1-46a49f1b4322",
   "metadata": {},
   "outputs": [
    {
     "name": "stdout",
     "output_type": "stream",
     "text": [
      "You are looking at a website titled Gayatri Sivani Susarla Portfolio Website\n",
      "The contents of this website is as follows; please provide a short summary of this website in markdown. If it includes news or announcements, then summarize these too.\n",
      "\n",
      "Home\n",
      "About\n",
      "Certifications\n",
      "Projects\n",
      "Contact\n",
      "Data Scientist\n",
      "Hey!, I am\n",
      "Gayatri Sivani Susarla\n",
      ".\n",
      "About Me\n",
      "I am aspiring Data Scientist pursuing Master's degree in Data Science major at Stony Brook University, New York. I developed passion for Large Language Models and Big Data Analytics in my MS journey, and move forward to collaborate with professionals in these fields. I want to focus on solving real-world challenges, driving impactful results and grow professionally. I am eager to contribute to the evolution of the Data Science field and discover unrevealed data. Lets connect to explore data in all possible ways and invent new scientific skills to study the\n",
      "\"word\".\n",
      "Skills\n",
      "Experience\n",
      "Education\n",
      "Programming Skills\n",
      "Python | R | Java | SQL | OCAML | SAPBW\n",
      "AI/ML Libraries\n",
      "PyTorch | TensorFlow | SciKit-Learn\n",
      "Cloud and Data visualization\n",
      "Snowflake | CloudLab | Azure | PowerBI | SAP Analytics Cloud | Matplotlib | Seaborn | Plotly\n",
      "Systems Engineer, Infosys\n",
      "Jul,2022 - Dec,2023\n",
      "As a Systems Engineer at Infosys I specialized in SAPBI and worked for the client company P&G, here's an overview of my work experience:\n",
      "1. Data Pipeline Optimization & Monitoring:\n",
      "I monitored and optimized process chains and pipelines, ensuring efficient and accurate data flow into the SAP BW warehouse, skills I now apply to streamline data pipelines in data science workflows.\n",
      "2. Extraction, Transform and Load(ETL):\n",
      "Expirenced in global ETL processes to ensure efficient data load operations, server health, and error resolution across multiple time zones using SAPBW Workbench, enhancing data pipeline reliability.\n",
      "3.Advanced Tools & Learning:\n",
      "With hands-on expertise I have done certain certifications in SAP Analytics Cloud,SAP ABAP, Snowflake, Microsoft Azure and SAP BW, complemented by training in Java and DBMS\n",
      "Master's in Data Science\n",
      "Jan,2024 - Present\n",
      "Stony Brook University, New York\n",
      "Bachelor in Technology\n",
      "Jun,2018 - May,2022\n",
      "Electronics and Instrumentation Engineering\n",
      "Adikavi Nannaya University, Andhra Pradesh, India\n",
      "Certifications\n",
      "Mastering Generative AI-A Simple Guide for Beginners\n",
      "In this certification, I got to learn basic Generative AI, Large Language Models, Transformers. I implemented downstream tasks, fine-tuned LLM'S in Python\n",
      "View credential\n",
      "Snowflake\n",
      "Expertise in building scalable data pipelines and optimizing data workflows in Snowflake.\n",
      "Proficiency in designing, managing, and optimizing Snowflake data warehouses for efficient analytics.\n",
      "Skilled in implementing data lakes on Snowflake, ensuring seamless data ingestion and management.\n",
      "View credentials\n",
      "Functional Programming Language: OCAML\n",
      "I learned fundamental principles of functional programming, including immutability, referential transparency, the power of higher-order functions, syntax and semantics of OCaml Language\n",
      "Type Inference and Polymorphism\n",
      "Pattern Matching\n",
      "Recursive Thinking\n",
      "View credential\n",
      "P&G SAP ABAP Developer\n",
      "Issuer: Procter & Gamble\n",
      "Issued: Aug 2023\n",
      "Credential ID: ET5045\n",
      "Summary: Certified in SAP ABAP development, showcasing expertise in building and optimizing enterprise applications. Earned while working at Infosys.\n",
      "Projects\n",
      "NCAA-March-Madness-Basketball-Tournament-Outcome-Prediction-Model\n",
      "NCAA basketball game is very famous, predicting the outcome of tournament is interesting game, but applying machine learning skills to predict outcome is much more interesting. This project is forecasting the outcomes of both the men's and women's 2024 collegiate basketball tournaments, a portfolio of brackets based on historical data. I used Logistic Regression, Random Forest, Gradient Boosting, and K-NN to predict models and attained some accuracies regarding the dataset.\n",
      "Exploratory Data Analytics-Airbnb Listings\n",
      "This project performs Exploratory Data Analysis (EDA) on New York Airbnb Listing 2024 data to uncover trends and patterns in rental listings. I used Python Jupyter Notebook to do EDA and used libraries like Pandas, Numpy, Matplotlib, and Seaborn for cleaning, visualization, and analysis.This project offers valuable insights into the New York Airbnb market, helping both guests and hosts make informed decisions.I identified key trends and developed actionable recommendations\n",
      "Quantum Search Algorithm on Weighted Databases\n",
      "This project implements an Adaptive-Grover-Algorithm using Qiskit, analyzing different dataset distributions and producing visualization results. Analysis and implementation reveal the adaptive quantum search nature compared to linear search. Addressed key challenges in designing an adaptive Grover search compared to original algorithm, explained results on real-world weighted data. The project provides a few enhancements to the original Grover’s search implementation strategies and scalability of the algorithm\n",
      "See more\n",
      "Contact me\n",
      "gayatrisivani3010@gmail.com\n",
      "+1-9342464724\n",
      "View My Resume\n",
      "Submit\n",
      "Copyright Gayatri Sivani Susarla\n"
     ]
    }
   ],
   "source": [
    "print(user_prompt_for(gs))"
   ]
  },
  {
   "cell_type": "code",
   "execution_count": 18,
   "id": "542888d0-7649-4948-9d78-e0c302244613",
   "metadata": {},
   "outputs": [],
   "source": [
    "## function creates exactly the format above\n",
    "def messages_for(website):\n",
    "    return [\n",
    "        {\"role\": \"system\",\"content\":system_prompt},\n",
    "        {\"role\": \"user\",\"content\":user_prompt_for(website)}\n",
    "    ]"
   ]
  },
  {
   "cell_type": "code",
   "execution_count": 19,
   "id": "ad48f796-a83d-4d78-9d71-936b3bf759ba",
   "metadata": {},
   "outputs": [
    {
     "data": {
      "text/plain": [
       "[{'role': 'system',\n",
       "  'content': 'You are an assistant that analyzes the contents of a website and provides a short summary, ignoring text that might be navigation related. Respond in markdown.'},\n",
       " {'role': 'user',\n",
       "  'content': 'You are looking at a website titled Gayatri Sivani Susarla Portfolio Website\\n The contents of this website is as follows; please provide a short summary of this website in markdown. If it includes news or announcements, then summarize these too.\\n\\nHome\\nAbout\\nCertifications\\nProjects\\nContact\\nData Scientist\\nHey!, I am\\nGayatri Sivani Susarla\\n.\\nAbout Me\\nI am aspiring Data Scientist pursuing Master\\'s degree in Data Science major at Stony Brook University, New York. I developed passion for Large Language Models and Big Data Analytics in my MS journey, and move forward to collaborate with professionals in these fields. I want to focus on solving real-world challenges, driving impactful results and grow professionally. I am eager to contribute to the evolution of the Data Science field and discover unrevealed data. Lets connect to explore data in all possible ways and invent new scientific skills to study the\\n\"word\".\\nSkills\\nExperience\\nEducation\\nProgramming Skills\\nPython | R | Java | SQL | OCAML | SAPBW\\nAI/ML Libraries\\nPyTorch | TensorFlow | SciKit-Learn\\nCloud and Data visualization\\nSnowflake | CloudLab | Azure | PowerBI | SAP Analytics Cloud | Matplotlib | Seaborn | Plotly\\nSystems Engineer, Infosys\\nJul,2022 - Dec,2023\\nAs a Systems Engineer at Infosys I specialized in SAPBI and worked for the client company P&G, here\\'s an overview of my work experience:\\n1. Data Pipeline Optimization & Monitoring:\\nI monitored and optimized process chains and pipelines, ensuring efficient and accurate data flow into the SAP BW warehouse, skills I now apply to streamline data pipelines in data science workflows.\\n2. Extraction, Transform and Load(ETL):\\nExpirenced in global ETL processes to ensure efficient data load operations, server health, and error resolution across multiple time zones using SAPBW Workbench, enhancing data pipeline reliability.\\n3.Advanced Tools & Learning:\\nWith hands-on expertise I have done certain certifications in SAP Analytics Cloud,SAP ABAP, Snowflake, Microsoft Azure and SAP BW, complemented by training in Java and DBMS\\nMaster\\'s in Data Science\\nJan,2024 - Present\\nStony Brook University, New York\\nBachelor in Technology\\nJun,2018 - May,2022\\nElectronics and Instrumentation Engineering\\nAdikavi Nannaya University, Andhra Pradesh, India\\nCertifications\\nMastering Generative AI-A Simple Guide for Beginners\\nIn this certification, I got to learn basic Generative AI, Large Language Models, Transformers. I implemented downstream tasks, fine-tuned LLM\\'S in Python\\nView credential\\nSnowflake\\nExpertise in building scalable data pipelines and optimizing data workflows in Snowflake.\\nProficiency in designing, managing, and optimizing Snowflake data warehouses for efficient analytics.\\nSkilled in implementing data lakes on Snowflake, ensuring seamless data ingestion and management.\\nView credentials\\nFunctional Programming Language: OCAML\\nI learned fundamental principles of functional programming, including immutability, referential transparency, the power of higher-order functions, syntax and semantics of OCaml Language\\nType Inference and Polymorphism\\nPattern Matching\\nRecursive Thinking\\nView credential\\nP&G SAP ABAP Developer\\nIssuer: Procter & Gamble\\nIssued: Aug 2023\\nCredential ID: ET5045\\nSummary: Certified in SAP ABAP development, showcasing expertise in building and optimizing enterprise applications. Earned while working at Infosys.\\nProjects\\nNCAA-March-Madness-Basketball-Tournament-Outcome-Prediction-Model\\nNCAA basketball game is very famous, predicting the outcome of tournament is interesting game, but applying machine learning skills to predict outcome is much more interesting. This project is forecasting the outcomes of both the men\\'s and women\\'s 2024 collegiate basketball tournaments, a portfolio of brackets based on historical data. I used Logistic Regression, Random Forest, Gradient Boosting, and K-NN to predict models and attained some accuracies regarding the dataset.\\nExploratory Data Analytics-Airbnb Listings\\nThis project performs Exploratory Data Analysis (EDA) on New York Airbnb Listing 2024 data to uncover trends and patterns in rental listings. I used Python Jupyter Notebook to do EDA and used libraries like Pandas, Numpy, Matplotlib, and Seaborn for cleaning, visualization, and analysis.This project offers valuable insights into the New York Airbnb market, helping both guests and hosts make informed decisions.I identified key trends and developed actionable recommendations\\nQuantum Search Algorithm on Weighted Databases\\nThis project implements an Adaptive-Grover-Algorithm using Qiskit, analyzing different dataset distributions and producing visualization results. Analysis and implementation reveal the adaptive quantum search nature compared to linear search. Addressed key challenges in designing an adaptive Grover search compared to original algorithm, explained results on real-world weighted data. The project provides a few enhancements to the original Grover’s search implementation strategies and scalability of the algorithm\\nSee more\\nContact me\\ngayatrisivani3010@gmail.com\\n+1-9342464724\\nView My Resume\\nSubmit\\nCopyright Gayatri Sivani Susarla'}]"
      ]
     },
     "execution_count": 19,
     "metadata": {},
     "output_type": "execute_result"
    }
   ],
   "source": [
    "messages_for(gs)"
   ]
  },
  {
   "cell_type": "code",
   "execution_count": 24,
   "id": "4844f7ab-e8e6-46bf-9bda-182aa7d07c90",
   "metadata": {},
   "outputs": [],
   "source": [
    "## now use OpenAI API, to bring this together \n",
    "def summarize(url):\n",
    "    website = Website(url)\n",
    "    response = openai.chat.completions.create(\n",
    "        model = \"gpt-4o-mini\",\n",
    "        messages = messages_for(website)\n",
    "    )\n",
    "    return response.choices[0].message.content\n"
   ]
  },
  {
   "cell_type": "code",
   "execution_count": 25,
   "id": "c510737b-6082-4e46-b71c-f38070e12189",
   "metadata": {},
   "outputs": [
    {
     "data": {
      "text/plain": [
       "\"# Gayatri Sivani Susarla Portfolio Website\\n\\n## Overview\\nThe portfolio website of Gayatri Sivani Susarla showcases her skills and experience as an aspiring Data Scientist currently pursuing a Master's degree in Data Science at Stony Brook University, New York. She has a keen interest in Large Language Models and Big Data Analytics, and aims to contribute innovative solutions to real-world data challenges.\\n\\n## About Me\\n- Master's student in Data Science.\\n- Passionate about data science, particularly in analyzing large datasets and collaborating with professionals in the field.\\n- Committed to professional growth and impacting the field positively through data analysis.\\n\\n## Skills\\n- **Programming Languages:** Python, R, Java, SQL, OCAML, SAPBW\\n- **AI/ML Libraries:** PyTorch, TensorFlow, SciKit-Learn\\n- **Cloud & Data Visualization:** Snowflake, CloudLab, Azure, PowerBI, SAP Analytics Cloud, Matplotlib, Seaborn, Plotly\\n\\n## Experience\\n- **Systems Engineer at Infosys (Jul 2022 - Dec 2023):** Specialized in data optimization and ETL processes, focusing on SAP BW for Procter & Gamble. Developed skills in monitoring data flows, enhancing data reliability, and gained industry certifications.\\n\\n## Education \\n- **Master's in Data Science:** Stony Brook University (Jan 2024 - Present)\\n- **Bachelor of Technology in Electronics and Instrumentation Engineering:** Adikavi Nannaya University, India (Jun 2018 - May 2022)\\n\\n## Certifications\\n- **Generative AI:** Basic principles of Generative AI and LLMs.\\n- **Snowflake:** Expertise in data pipelines and analytics management.\\n- **SAP ABAP Development (Procter & Gamble):** Certification earned during her time at Infosys.\\n\\n## Projects\\n1. **NCAA March Madness Prediction Model:** Developed a machine learning model to predict outcomes of the 2024 basketball tournaments using Logistic Regression and other algorithms.\\n2. **Exploratory Data Analytics of Airbnb Listings:** Conducted EDA on Airbnb data to uncover market trends and provide actionable insights using Python and visualization libraries.\\n3. **Quantum Search Algorithm on Weighted Databases:** Implemented an Adaptive-Grover-Algorithm with Qiskit, showcasing enhancements in search efficiency compared to traditional methods.\\n\\n## Contact\\n- Email: gayatrisivani3010@gmail.com\\n- Phone: +1-9342464724\\n\\nFor more details, including her resume, visit the website.\""
      ]
     },
     "execution_count": 25,
     "metadata": {},
     "output_type": "execute_result"
    }
   ],
   "source": [
    "summarize(\"https://gayatri-sivani-susarla.github.io/GSS.portfolio/\")"
   ]
  },
  {
   "cell_type": "code",
   "execution_count": 27,
   "id": "ad82ccc7-def1-4cfc-9545-f5da8b0dc842",
   "metadata": {},
   "outputs": [],
   "source": [
    "##function to display this nicely in the jupyter output, using markdown\n",
    "def display_summary(url):\n",
    "    summary = summarize(url)\n",
    "    display(Markdown(summary))"
   ]
  },
  {
   "cell_type": "code",
   "execution_count": 28,
   "id": "fedd407c-1d1c-46cd-8fd5-3a1b45107787",
   "metadata": {},
   "outputs": [
    {
     "data": {
      "text/markdown": [
       "# Gayatri Sivani Susarla Portfolio Summary\n",
       "\n",
       "**About Me**  \n",
       "Gayatri Sivani Susarla is an aspiring Data Scientist currently pursuing a Master's degree at Stony Brook University, New York. Her interests lie in Large Language Models and Big Data Analytics, with a goal to solve real-world challenges and contribute to the evolution of Data Science.\n",
       "\n",
       "---\n",
       "\n",
       "**Skills and Experience**  \n",
       "- **Programming Languages:** Python, R, Java, SQL, OCAML, SAPBW  \n",
       "- **AI/ML Libraries:** PyTorch, TensorFlow, SciKit-Learn  \n",
       "- **Cloud and Data Visualization Tools:** Snowflake, Azure, PowerBI, Matplotlib, Seaborn, Plotly  \n",
       "- **Professional Experience:** Systems Engineer at Infosys (2022-2023), focused on SAPBI, data pipeline optimization, and ETL processes.\n",
       "\n",
       "---\n",
       "\n",
       "**Education**  \n",
       "- **Master's in Data Science** (Jan 2024 - Present) - Stony Brook University, New York  \n",
       "- **Bachelor in Technology** (June 2018 - May 2022) - Electronics and Instrumentation Engineering, Adikavi Nannaya University, Andhra Pradesh, India\n",
       "\n",
       "---\n",
       "\n",
       "**Certifications**  \n",
       "- Mastering Generative AI: Gained skills in Generative AI and fine-tuning LLMs.  \n",
       "- Snowflake: Expertise in scalable data pipelines and data warehouse optimization.  \n",
       "- SAP ABAP: Certified developer showcasing enterprise application skills.  \n",
       "\n",
       "---\n",
       "\n",
       "**Projects**  \n",
       "1. **NCAA-March-Madness-Basketball-Tournament-Outcome-Prediction-Model**: Using machine learning to predict outcomes of the 2024 collegiate basketball tournaments.  \n",
       "2. **Exploratory Data Analytics-Airbnb Listings**: Analyzed New York Airbnb data for trends and patterns, providing insights for guests and hosts.  \n",
       "3. **Quantum Search Algorithm on Weighted Databases**: Implemented an Adaptive-Grover-Algorithm using Qiskit and enhanced the original Grover’s search strategy.\n",
       "\n",
       "---\n",
       "\n",
       "**Contact Information**  \n",
       "- Email: [gayatrisivani3010@gmail.com](mailto:gayatrisivani3010@gmail.com)  \n",
       "- Phone: +1-9342464724\n",
       "\n",
       "For more details, visit her [resume](#).\n",
       "\n",
       "---"
      ],
      "text/plain": [
       "<IPython.core.display.Markdown object>"
      ]
     },
     "metadata": {},
     "output_type": "display_data"
    }
   ],
   "source": [
    "display_summary(\"https://gayatri-sivani-susarla.github.io/GSS.portfolio/\")"
   ]
  },
  {
   "cell_type": "code",
   "execution_count": 30,
   "id": "71eedc4c-4d6a-4ac2-8cb5-74c5952d9d4b",
   "metadata": {},
   "outputs": [
    {
     "data": {
      "text/markdown": [
       "# Summary of Matthew 8 | NIV Bible | YouVersion\n",
       "\n",
       "This webpage provides the full text of Matthew Chapter 8 from the New International Version (NIV) of the Bible. The chapter details several key events in the ministry of Jesus, including:\n",
       "\n",
       "- **Healing a Man with Leprosy**: A leper approaches Jesus, expressing faith in His ability to heal. Jesus heals him and instructs him to show himself to the priest as a testimony.\n",
       "- **The Faith of the Centurion**: A centurion seeks healing for his paralyzed servant. Jesus commends the centurion's faith and heals the servant from a distance.\n",
       "- **Healing at Peter's House**: Jesus heals Peter's mother-in-law and many others who were sick or possessed by demons.\n",
       "- **The Cost of Following Jesus**: Jesus explains the sacrifices required to follow Him, emphasizing that He has no permanent home.\n",
       "- **Calming the Storm**: Jesus calms a storm on the lake, demonstrating His authority over nature, which amazes His disciples.\n",
       "- **Restoration of Two Demon-Possessed Men**: Upon arriving in the Gadarenes, Jesus encounters two demons and frees them, sending the demons into a herd of pigs.\n",
       "\n",
       "The chapter exemplifies Jesus' healing powers, authority, and the importance of faith in Him, alongside the challenges faced by His followers.\n",
       "\n",
       "Additionally, the site offers features such as video resources related to Matthew 8, highlighting its applications in digital ministry and encouraging users to engage with the Bible daily."
      ],
      "text/plain": [
       "<IPython.core.display.Markdown object>"
      ]
     },
     "metadata": {},
     "output_type": "display_data"
    }
   ],
   "source": [
    "display_summary(\"https://www.bible.com/bible/111/MAT.8.NIV\")"
   ]
  },
  {
   "cell_type": "code",
   "execution_count": 31,
   "id": "12ff43f5-d34f-434b-a564-7562e1958432",
   "metadata": {},
   "outputs": [
    {
     "data": {
      "text/plain": [
       "'C:\\\\Users\\\\dell\\\\projects\\\\llm_engineering\\\\week1'"
      ]
     },
     "execution_count": 31,
     "metadata": {},
     "output_type": "execute_result"
    }
   ],
   "source": [
    "os.getcwd()"
   ]
  },
  {
   "cell_type": "code",
   "execution_count": null,
   "id": "66ffa9b8-4e90-4f3c-826f-0c101996a50e",
   "metadata": {},
   "outputs": [],
   "source": []
  }
 ],
 "metadata": {
  "kernelspec": {
   "display_name": "Python 3 (ipykernel)",
   "language": "python",
   "name": "python3"
  },
  "language_info": {
   "codemirror_mode": {
    "name": "ipython",
    "version": 3
   },
   "file_extension": ".py",
   "mimetype": "text/x-python",
   "name": "python",
   "nbconvert_exporter": "python",
   "pygments_lexer": "ipython3",
   "version": "3.11.13"
  }
 },
 "nbformat": 4,
 "nbformat_minor": 5
}

{
 "cells": [
  {
   "cell_type": "markdown",
   "id": "fe12c203-e6a6-452c-a655-afb8a03a4ff5",
   "metadata": {},
   "source": [
    "# End of week 1 exercise\n",
    "\n",
    "To demonstrate your familiarity with OpenAI API, and also Ollama, build a tool that takes a technical question,  \n",
    "and responds with an explanation. This is a tool that you will be able to use yourself during the course!"
   ]
  },
  {
   "cell_type": "code",
   "execution_count": 24,
   "id": "c1070317-3ed9-4659-abe3-828943230e03",
   "metadata": {},
   "outputs": [],
   "source": [
    "# imports\n",
    "from dotenv import load_dotenv\n",
    "from openai import OpenAI\n",
    "import ollama\n",
    "from IPython.display import Markdown, display, update_display\n"
   ]
  },
  {
   "cell_type": "code",
   "execution_count": 25,
   "id": "4a456906-915a-4bfd-bb9d-57e505c5093f",
   "metadata": {},
   "outputs": [],
   "source": [
    "# constants\n",
    "\n",
    "MODEL_GPT = 'gpt-4o-mini'\n",
    "MODEL_LLAMA = 'llama3.2'"
   ]
  },
  {
   "cell_type": "code",
   "execution_count": 26,
   "id": "a8d7923c-5f28-4c30-8556-342d7c8497c1",
   "metadata": {},
   "outputs": [],
   "source": [
    "# set up environment\n",
    "load_dotenv()\n",
    "openai = OpenAI()"
   ]
  },
  {
   "cell_type": "code",
   "execution_count": 42,
   "id": "3f0d0137-52b0-47a8-81a8-11a90a010798",
   "metadata": {},
   "outputs": [],
   "source": [
    "# here is the question; type over this to ask something new\n",
    "\n",
    "question = \"\"\"\n",
    "Please explain what this code does and why:\n",
    "yield from {book.get(\"author\") for book in books if book.get(\"author\")}\n",
    "\"\"\""
   ]
  },
  {
   "cell_type": "code",
   "execution_count": 43,
   "id": "028a0581-f93c-4f0f-bbf5-d6f3f2731085",
   "metadata": {},
   "outputs": [],
   "source": [
    "# Prompts for the model\n",
    "system_prompt = \"you are helpful technical tutor who answers questions about software engineering, python code, data science, llms etc\" \n",
    "user_prompt = \"give me detailed explanation to the following question: \" + question"
   ]
  },
  {
   "cell_type": "code",
   "execution_count": 44,
   "id": "ea6e4bed-e028-43bc-b27d-e7228e444cca",
   "metadata": {},
   "outputs": [],
   "source": [
    "# messages \n",
    "messages = [\n",
    "    { \"role\": \"system\" , \"content\": system_prompt},\n",
    "    { \"role\": \"user\", \"content\": user_prompt}\n",
    "]\n",
    "    "
   ]
  },
  {
   "cell_type": "code",
   "execution_count": 45,
   "id": "60ce7000-a4a5-4cce-a261-e75ef45063b4",
   "metadata": {},
   "outputs": [
    {
     "data": {
      "text/markdown": [
       "The code snippet you've provided uses a combination of Python features called generator expressions and the `yield from` statement. To understand this code, we need to break it down into its components and see how they work together. \n",
       "\n",
       "### Explanation of Each Component\n",
       "\n",
       "1. **Generator Expressions**:\n",
       "    - The portion within the curly braces `{ ... }` is actually a set comprehension. Set comprehensions are similar to list comprehensions, but they are wrapped in curly braces `{}` and they create a set instead of a list.\n",
       "    - In this case, the comprehension `{book.get(\"author\") for book in books if book.get(\"author\")}` iterates over a collection named `books` (which is expected to be a list of dictionaries) and extracts the values associated with the \"author\" key for each `book`.\n",
       "    - The `if book.get(\"author\")` part is a conditional that ensures only those authors that exist (non-null/valid values) will be included in the set. If `book.get(\"author\")` returns `None` (or any falsy value like an empty string), that book will be skipped.\n",
       "\n",
       "2. **The `yield from` Statement**:\n",
       "   - `yield from` is used in Python to delegate part of a generator's operations to another generator. It allows you to yield all values from an iterable (in this case, a set).\n",
       "   - In a generator function, `yield from` will yield all items from the iterable provided. It essentially hands off control to the iterable, yielding each of its items one by one.\n",
       "\n",
       "### What This Code Does\n",
       "\n",
       "- The meaning of the entire line of code can be understood as follows:\n",
       "    - It generates a set of authors from the `books` collection, while ensuring that only non-null (truthy) authors are included.\n",
       "    - The `yield from` statement will yield each author from this generated set one by one in the context of a generator function.\n",
       "\n",
       "### Why This Code Might Be Used\n",
       "\n",
       "- **Uniqueness**: By using a set comprehension, the code inherently avoids duplicate authors because sets do not allow duplicate entries. If multiple books have the same author, that author will only be yielded once.\n",
       "- **Efficiency**: The combination of generator expressions with `yield from` allows for lazy evaluation, meaning authors are produced one at a time as they are requested, which can be more memory efficient than generating a complete list upfront.\n",
       "- **Readability and Conciseness**: This single line provides a clear way to express the intention of filtering and extracting unique authors, while also delegating the yielding of values effectively.\n",
       "\n",
       "### Example of Context\n",
       "\n",
       "To illustrate, assume you have the following list of books:\n",
       "\n",
       "python\n",
       "books = [\n",
       "    {\"title\": \"Book A\", \"author\": \"Author 1\"},\n",
       "    {\"title\": \"Book B\", \"author\": \"Author 2\"},\n",
       "    {\"title\": \"Book C\", \"author\": \"Author 1\"},  # Duplicate author\n",
       "    {\"title\": \"Book D\", \"author\": None},        # Author is None\n",
       "    {\"title\": \"Book E\", \"author\": \"Author 3\"},\n",
       "]\n",
       "\n",
       "\n",
       "When you execute the line `yield from {book.get(\"author\") for book in books if book.get(\"author\")}`, it produces the following sequence of authors: `\"Author 1\"`, `\"Author 2\"`, and `\"Author 3\"`, while the duplicate of `\"Author 1\"` does not show up twice and `None` is excluded.\n",
       "\n",
       "### Conclusion\n",
       "\n",
       "In summary, the code is a concise and effective way of extracting unique authors from a list of books, ensuring that only valid (non-empty) authors are included, while leveraging Python's generator capabilities for efficiency and clarity."
      ],
      "text/plain": [
       "<IPython.core.display.Markdown object>"
      ]
     },
     "metadata": {},
     "output_type": "display_data"
    }
   ],
   "source": [
    "# Get gpt-4o-mini to answer, with streaming\n",
    "stream = openai.chat.completions.create(model=MODEL_GPT, messages=messages,stream=True)\n",
    "    \n",
    "response = \"\"\n",
    "display_handle = display(Markdown(\"\"), display_id=True)\n",
    "for chunk in stream:\n",
    "    response += chunk.choices[0].delta.content or ''\n",
    "    response = response.replace(\"```\",\"\").replace(\"markdown\", \"\")\n",
    "    update_display(Markdown(response), display_id=display_handle.display_id)"
   ]
  },
  {
   "cell_type": "code",
   "execution_count": 46,
   "id": "8f7c8ea8-4082-4ad0-8751-3301adcf6538",
   "metadata": {},
   "outputs": [
    {
     "data": {
      "text/markdown": [
       "Let's break down this code step by step.\n",
       "\n",
       "**What is a `yield` statement?**\n",
       "\n",
       "In Python, a `yield` statement is used to define a generator function. A generator function is similar to a regular function, but instead of returning values directly, it uses the `yield` keyword to produce a series of values over time, rather than computing them all at once and returning them in a list or other data structure.\n",
       "\n",
       "**What does `{book.get(\"author\") for book in books if book.get(\"author\")}` do?**\n",
       "\n",
       "This is an example of a dictionary comprehension in Python. Here's what it does:\n",
       "\n",
       "* `for book in books`: This loops over each item (`book`) in the `books` dictionary.\n",
       "* `if book.get(\"author\")`: This filters out any items that don't have an `\"author\"` key. The `get()` method returns the value associated with the key if it exists, and a default value (e.g., `None`) if it doesn't.\n",
       "* `{book.get(\"author\")}`: This takes the filtered books and extracts their corresponding author values.\n",
       "\n",
       "So, putting it all together, this code generates an iterator over the author names of the books that have an `\"author\"` key.\n",
       "\n",
       "**What does `yield from` do?**\n",
       "\n",
       "Now we get to the interesting part. In Python 3.3 and later, you can use the `yield from` syntax to delegate to a sub-iterator or generator. This is similar to how `yield` works, but instead of producing values directly, it lets another iterator produce them.\n",
       "\n",
       "In this specific case, `yield from {book.get(\"author\") for book in books if book.get(\"author\")}` means:\n",
       "\n",
       "* `{book.get(\"author\") for book in books if book.get(\"author\")}` produces an iterator over the author names.\n",
       "* `yield from` delegates to this sub-iterator.\n",
       "\n",
       "So, when we use `yield from`, we're effectively saying: \"Let this sub-iterator produce its values, and then yield those values.\"\n",
       "\n",
       "**Why would you want to use `yield from`?**\n",
       "\n",
       "Using `yield from` has several advantages:\n",
       "\n",
       "* It's a more concise way of expressing iterators than using the `next()` function or a loop.\n",
       "* It's easier to read and understand when dealing with complex iterators.\n",
       "* It reduces code duplication, because you don't need to create separate variables to hold intermediate values.\n",
       "\n",
       "In this specific example, using `yield from` makes it clear that we're delegating to another iterator (the dictionary comprehension), which can be beneficial for readability and maintainability."
      ],
      "text/plain": [
       "<IPython.core.display.Markdown object>"
      ]
     },
     "metadata": {},
     "output_type": "display_data"
    }
   ],
   "source": [
    "# Get Llama 3.2 to answer\n",
    "response = ollama.chat(model=MODEL_LLAMA, messages=messages)\n",
    "reply = response['message']['content']\n",
    "display(Markdown(reply))"
   ]
  },
  {
   "cell_type": "code",
   "execution_count": null,
   "id": "690cbbd9-2e17-447b-8e1b-e65e7ba2a87b",
   "metadata": {},
   "outputs": [],
   "source": [
    "\n"
   ]
  },
  {
   "cell_type": "code",
   "execution_count": null,
   "id": "fed92c1a-19c4-4ddf-8b15-e566bf27f972",
   "metadata": {},
   "outputs": [],
   "source": []
  }
 ],
 "metadata": {
  "kernelspec": {
   "display_name": "Python 3 (ipykernel)",
   "language": "python",
   "name": "python3"
  },
  "language_info": {
   "codemirror_mode": {
    "name": "ipython",
    "version": 3
   },
   "file_extension": ".py",
   "mimetype": "text/x-python",
   "name": "python",
   "nbconvert_exporter": "python",
   "pygments_lexer": "ipython3",
   "version": "3.11.13"
  }
 },
 "nbformat": 4,
 "nbformat_minor": 5
}
